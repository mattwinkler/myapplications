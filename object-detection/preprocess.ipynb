{
 "cells": [
  {
   "cell_type": "markdown",
   "metadata": {},
   "source": [
    "# Preprocessing Dataset for Object Detection\n",
    "\n",
    "This notebook illustrates preprocessing the training data, accomplishing two key things:  \n",
    "\n",
    "- Converting the annotations files from .xml to .txt format\n",
    "- Supplying annotation text files in this format: `class x y width height`\n",
    "- NOTE: the coordinates and width/height values for the labels are given as proportions of the respective width and height of the entire image"
   ]
  },
  {
   "cell_type": "code",
   "execution_count": 5,
   "metadata": {},
   "outputs": [],
   "source": [
    "import untangle\n",
    "import os"
   ]
  },
  {
   "cell_type": "code",
   "execution_count": 7,
   "metadata": {},
   "outputs": [],
   "source": [
    "DATA_PATH = './data/annotations'"
   ]
  },
  {
   "cell_type": "code",
   "execution_count": 120,
   "metadata": {},
   "outputs": [],
   "source": [
    "def convert_dimensions(bounding_box, image_width, image_height):\n",
    "    xmin = float(bounding_box.xmin.cdata)\n",
    "    xmax = float(bounding_box.xmax.cdata)\n",
    "    ymin = float(bounding_box.ymin.cdata)\n",
    "    ymax = float(bounding_box.ymax.cdata)\n",
    "    \n",
    "    # calculate transformed dimensions as a proportion of the entire image\n",
    "    obj_width = xmax - xmin\n",
    "    obj_height = ymax - ymin\n",
    "    \n",
    "    x_label = (xmin + (obj_width / 2.0)) / image_width\n",
    "    y_label = (ymin + (obj_height / 2.0)) / image_height\n",
    "    \n",
    "    obj_width_label = obj_width / image_width\n",
    "    obj_height_label = obj_height / image_height\n",
    "    return x_label, y_label, obj_width_label, obj_height_label"
   ]
  },
  {
   "cell_type": "code",
   "execution_count": 125,
   "metadata": {},
   "outputs": [],
   "source": [
    "def convert_multiple_objects(obj_list, image_width, image_height):\n",
    "    result = []\n",
    "    for obj in obj_list:\n",
    "        result.append(obj.name.cdata)\n",
    "        bounding_box = obj.bndbox\n",
    "        x_label, y_label, obj_width_label, obj_height_label = convert_dimensions(bounding_box, image_width, image_height)\n",
    "        result.append(x_label)\n",
    "        result.append(y_label)\n",
    "        result.append(obj_width_label)\n",
    "        result.append(obj_height_label)\n",
    "    return result"
   ]
  },
  {
   "cell_type": "code",
   "execution_count": 126,
   "metadata": {},
   "outputs": [],
   "source": [
    "def transform_object(obj, image_width, image_height):\n",
    "    \"\"\"Convert object representation in XML to desired format\"\"\"\n",
    "    # check if input object is a list:\n",
    "    if isinstance(obj, list):\n",
    "        converted = convert_multiple_objects(obj, image_width, image_height)\n",
    "        return(converted)\n",
    "    \n",
    "    else:\n",
    "        obj_name = obj.name.cdata\n",
    "        bounding_box = obj.bndbox\n",
    "        x_label, y_label, obj_width_label, obj_height_label = convert_dimensions(bounding_box, image_width, image_height)\n",
    "        return [obj_name, x_label, y_label, obj_width_label, obj_height_label]"
   ]
  },
  {
   "cell_type": "code",
   "execution_count": 127,
   "metadata": {},
   "outputs": [],
   "source": [
    "def convert_annotation_format(path_to_data):\n",
    "    \"\"\"Converts annotation xmls to text files with labels in `class x y width height format. \n",
    "    Note that object dimensions are given as proportions of the entire image\"\"\"\n",
    "    results = []\n",
    "    errors = []\n",
    "    for fname in os.listdir(DATA_PATH):\n",
    "        try:\n",
    "            file_path = DATA_PATH + '/' + fname\n",
    "            obj = untangle.parse(file_path)\n",
    "            verified = obj.annotation['verified']\n",
    "            \n",
    "            # get the overall dimensions of the image\n",
    "            image_width = float(obj.annotation.size.width.cdata)\n",
    "            image_height = float(obj.annotation.size.height.cdata)\n",
    "            \n",
    "            object_data = obj.annotation.object\n",
    "            \n",
    "            # parse object label and dimensions\n",
    "            results.append(transform_object(object_data, image_width, image_height))\n",
    "        \n",
    "        except Exception as err:\n",
    "            errors.append([fname, err])\n",
    "    \n",
    "    return results, errors"
   ]
  },
  {
   "cell_type": "code",
   "execution_count": 128,
   "metadata": {},
   "outputs": [],
   "source": [
    "processed, errors = convert_annotation_format(DATA_PATH)"
   ]
  }
 ],
 "metadata": {
  "kernelspec": {
   "display_name": "venv",
   "language": "python",
   "name": "venv"
  },
  "language_info": {
   "codemirror_mode": {
    "name": "ipython",
    "version": 3
   },
   "file_extension": ".py",
   "mimetype": "text/x-python",
   "name": "python",
   "nbconvert_exporter": "python",
   "pygments_lexer": "ipython3",
   "version": "3.8.2"
  }
 },
 "nbformat": 4,
 "nbformat_minor": 4
}
